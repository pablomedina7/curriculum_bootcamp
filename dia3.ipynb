{
 "cells": [
  {
   "cell_type": "markdown",
   "metadata": {},
   "source": [
    "# Día 3 - Funciones y Proyecto"
   ]
  },
  {
   "cell_type": "markdown",
   "metadata": {},
   "source": [
    "## Funciones con retorno"
   ]
  },
  {
   "cell_type": "code",
   "execution_count": null,
   "metadata": {},
   "outputs": [],
   "source": [
    "def saludar(nombre):\n    return f'Hola {nombre}'\nprint(saludar('Ana'))"
   ]
  },
  {
   "cell_type": "markdown",
   "metadata": {},
   "source": [
    "### Ejercicio 1\nCrear una función que reciba base y altura y retorne el área de un triángulo"
   ]
  },
  {
   "cell_type": "code",
   "execution_count": null,
   "metadata": {},
   "outputs": [],
   "source": [
    "def area_triangulo(base, altura):\n    return base * altura / 2\n\nprint(area_triangulo(3,4))"
   ]
  },
  {
   "cell_type": "markdown",
   "metadata": {},
   "source": [
    "## Listas y bucles"
   ]
  },
  {
   "cell_type": "code",
   "execution_count": null,
   "metadata": {},
   "outputs": [],
   "source": [
    "palabras = ['hola', 'mundo']\nfor p in palabras:\n    print(p.upper())"
   ]
  },
  {
   "cell_type": "markdown",
   "metadata": {},
   "source": [
    "### Ejercicio 2\nDada una lista de palabras, crear otra lista con cada palabra en mayúsculas"
   ]
  },
  {
   "cell_type": "code",
   "execution_count": null,
   "metadata": {},
   "outputs": [],
   "source": [
    "datos = ['python', 'bootcamp', 'penguin']\nmayusculas = []\nfor d in datos:\n    mayusculas.append(d.upper())\nprint(mayusculas)"
   ]
  },
  {
   "cell_type": "markdown",
   "metadata": {},
   "source": [
    "## Mini proyecto: intento sencillo de Wordle"
   ]
  },
  {
   "cell_type": "code",
   "execution_count": null,
   "metadata": {},
   "outputs": [],
   "source": [
    "secreta = 'casa'\nintento = input('Adivina la palabra de 4 letras: ')\nif intento == secreta:\n    print('¡Ganaste!')\nelse:\n    print('Sigue intentando')"
   ]
  },
  {
   "cell_type": "markdown",
   "metadata": {},
   "source": [
    "## Diccionarios básicos\nEstructuras para almacenar pares clave-valor."
   ]
  },
  {
   "cell_type": "code",
   "metadata": {},
   "source": [
    "persona = {'nombre': 'Ana', 'edad': 25}\nprint(persona['nombre'])"
   ]
  },
  {
   "cell_type": "markdown",
   "metadata": {},
   "source": [
    "### Ejercicio 3\nCrea una función que cuente la aparición de cada letra en una palabra y retorne un diccionario"
   ]
  },
  {
   "cell_type": "code",
   "metadata": {},
   "source": [
    "def contar_letras(palabra):\n    conteo = {}\n    for letra in palabra:\n        conteo[letra] = conteo.get(letra, 0) + 1\n    return conteo\n\nprint(contar_letras('banana'))"
   ]
  },
  {
   "cell_type": "markdown",
   "metadata": {},
   "source": [
    "## Mini proyecto adicional: generador de contraseñas sencillas"
   ]
  },
  {
   "cell_type": "code",
   "metadata": {},
   "source": [
    "import random\ncaracteres = 'abc123'\nclave = ''.join(random.choice(caracteres) for _ in range(6))\nprint('Contraseña:', clave)"
   ]
  }
 ],
 "metadata": {
  "kernelspec": {
   "display_name": "Python 3",
   "language": "python",
   "name": "python3"
  },
  "language_info": {
   "name": "python",
   "version": "3"
  }
 },
 "nbformat": 4,
 "nbformat_minor": 2
}