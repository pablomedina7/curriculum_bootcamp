{
 "cells": [
  {
   "cell_type": "code",
   "execution_count": 6,
   "metadata": {},
   "outputs": [
    {
     "name": "stdout",
     "output_type": "stream",
     "text": [
      "Hola mi nombre es Nicolas y peso 85.0 kg\n",
      "Disfruta de tus milanesas\n"
     ]
    }
   ],
   "source": [
    "# Variables\n",
    "nombre = 'Nicolas'\n",
    "edad = 29\n",
    "peso = float(input('Cargame tu peso'))\n",
    "soltero = False\n",
    "\n",
    "print(f'Hola mi nombre es {nombre} y peso {peso} kg')\n",
    "#Condicionales de peso\n",
    "if peso>90:\n",
    "    print('Amigo tenes que hacer un chiqui de dieta,deja las milas')\n",
    "else:\n",
    "def com    print('Disfruta de tus milanesas')"
   ]
  },
  {
   "cell_type": "code",
   "execution_count": 11,
   "metadata": {},
   "outputs": [],
   "source": [
    "\n",
    "def categorizar_edad(altura,edad):\n",
    "    # altura = float(input('Ingresa tu altura'))\n",
    "    # edad = int(input('Ingrese su edad'))\n",
    "\n",
    "    if edad<18:\n",
    "            print('Lo siento, sos menor elegi otro parque')\n",
    "    else:\n",
    "        if altura<1.6:\n",
    "                print('Te podes subir a los juegos de la categoria1')\n",
    "        elif altura>1.6 and altura <1.8:\n",
    "                print('Te podes subir a los juegos de la categoria2')\n",
    "        else:\n",
    "                print('Te podes subir a los juegos de la categoria3')\n",
    "\n",
    "\n",
    "altura_usuario = float(input('Ingresa tu altura'))\n",
    "edad_usuario = int(input('Ingrese su edad'))\n",
    "categorizar_edad(1.87,19)\n",
    "categorizar_edad(1.75,21)\n",
    "categorizar_edad(1.75,16)\n",
    "categorizar_edad(altura_usuario,edad_usuario)\n",
    "\n"
   ]
  },
  {
   "cell_type": "code",
   "execution_count": 12,
   "metadata": {},
   "outputs": [
    {
     "name": "stdout",
     "output_type": "stream",
     "text": [
      "Te podes subir a los juegos de la categoria3\n"
     ]
    }
   ],
   "source": []
  },
  {
   "cell_type": "markdown",
   "metadata": {},
   "source": [
    "## Challenge 1 :person_fencing: - 15m\n",
    "\n",
    "Crear una función que imprima el contenido de la variable palabra.\n"
   ]
  },
  {
   "cell_type": "code",
   "execution_count": 13,
   "metadata": {},
   "outputs": [
    {
     "name": "stdout",
     "output_type": "stream",
     "text": [
      "Adenosintrifosfato\n"
     ]
    }
   ],
   "source": [
    "# SOlucion de Trinidad\n",
    "#Challenge 1 🤺 - 15m\n",
    "#Crear una función que imprima el contenido de la variable palabra.\n",
    "\n",
    "def palabra():\n",
    "    palabra = 'Adenosintrifosfato'\n",
    "    print(palabra)\n",
    "palabra()"
   ]
  },
  {
   "cell_type": "code",
   "execution_count": 15,
   "metadata": {},
   "outputs": [
    {
     "ename": "TypeError",
     "evalue": "print() takes 0 positional arguments but 1 was given",
     "output_type": "error",
     "traceback": [
      "\u001b[0;31m---------------------------------------------------------------------------\u001b[0m",
      "\u001b[0;31mTypeError\u001b[0m                                 Traceback (most recent call last)",
      "\u001b[1;32m/home/penguin/Escritorio/bootcap/dia3.ipynb Celda 6\u001b[0m line \u001b[0;36m6\n\u001b[1;32m      <a href='vscode-notebook-cell:/home/penguin/Escritorio/bootcap/dia3.ipynb#W5sZmlsZQ%3D%3D?line=2'>3</a>\u001b[0m     contenido \u001b[39m=\u001b[39m \u001b[39m\"\u001b[39m\u001b[39mrosas\u001b[39m\u001b[39m\"\u001b[39m\n\u001b[1;32m      <a href='vscode-notebook-cell:/home/penguin/Escritorio/bootcap/dia3.ipynb#W5sZmlsZQ%3D%3D?line=3'>4</a>\u001b[0m     \u001b[39mprint\u001b[39m(contenido)\n\u001b[0;32m----> <a href='vscode-notebook-cell:/home/penguin/Escritorio/bootcap/dia3.ipynb#W5sZmlsZQ%3D%3D?line=5'>6</a>\u001b[0m \u001b[39mprint\u001b[39;49m()\n",
      "\u001b[1;32m/home/penguin/Escritorio/bootcap/dia3.ipynb Celda 6\u001b[0m line \u001b[0;36m4\n\u001b[1;32m      <a href='vscode-notebook-cell:/home/penguin/Escritorio/bootcap/dia3.ipynb#W5sZmlsZQ%3D%3D?line=1'>2</a>\u001b[0m \u001b[39mdef\u001b[39;00m \u001b[39mprint\u001b[39m():\n\u001b[1;32m      <a href='vscode-notebook-cell:/home/penguin/Escritorio/bootcap/dia3.ipynb#W5sZmlsZQ%3D%3D?line=2'>3</a>\u001b[0m     contenido \u001b[39m=\u001b[39m \u001b[39m\"\u001b[39m\u001b[39mrosas\u001b[39m\u001b[39m\"\u001b[39m\n\u001b[0;32m----> <a href='vscode-notebook-cell:/home/penguin/Escritorio/bootcap/dia3.ipynb#W5sZmlsZQ%3D%3D?line=3'>4</a>\u001b[0m     \u001b[39mprint\u001b[39;49m(contenido)\n",
      "\u001b[0;31mTypeError\u001b[0m: print() takes 0 positional arguments but 1 was given"
     ]
    }
   ],
   "source": []
  },
  {
   "cell_type": "code",
   "execution_count": 1,
   "metadata": {},
   "outputs": [
    {
     "name": "stdout",
     "output_type": "stream",
     "text": [
      "LA suma de las edades de jose y Tutu es 44.0\n"
     ]
    }
   ],
   "source": [
    "\n",
    "#Los parametros son variables que puedo utilizar dentro de\n",
    "# las funciones, y los argumentos los valores con los que le cargo\n",
    "def sumar_edades(nombre1,nombre2):\n",
    "    edad1 = float(input('Ingrese un numero'))\n",
    "    edad2 = float(input('Ingrese un numero'))\n",
    "    suma_edades = edad1 + edad2\n",
    "    print(f'LA suma de las edades de {nombre1} y {nombre2} es {suma_edades}')\n",
    "\n",
    "nombre = input('Cargame el nombre')\n",
    "sumar_edades(nombre,'Tutu')\n"
   ]
  },
  {
   "cell_type": "markdown",
   "metadata": {},
   "source": [
    "## Challenge 2 🤺 - 15 min\n",
    "Crear una función que reciba dos letras (parámetros) y que verifique si son iguales:\n",
    "\n",
    "1. Si son iguales, imprimir \"Las letras son iguales\".\n",
    "\n",
    "2. De lo contrario, imprimir \"Las letras son diferentes\"."
   ]
  },
  {
   "cell_type": "code",
   "execution_count": 4,
   "metadata": {},
   "outputs": [
    {
     "name": "stdout",
     "output_type": "stream",
     "text": [
      "Las letras son iguales\n",
      "LAs letras son diferentes\n"
     ]
    }
   ],
   "source": [
    "#Solucion de SOl\n",
    "def letra (letra1,letra2):\n",
    "  \n",
    "\n",
    "    if letra1 == letra2:\n",
    "        print ( 'Las letras son iguales')\n",
    "    elif letra1 != letra2:\n",
    "        print ( 'LAs letras son diferentes')\n",
    "\n",
    "letra('o','o')\n",
    "letra('o','u')\n",
    "\n"
   ]
  },
  {
   "cell_type": "code",
   "execution_count": 13,
   "metadata": {},
   "outputs": [
    {
     "name": "stdout",
     "output_type": "stream",
     "text": [
      "8\n",
      "la suma es xxxx\n"
     ]
    }
   ],
   "source": [
    "def sumar_numeros(n1,n2):\n",
    "    suma = n1+n2\n",
    "    return suma\n",
    "    \n",
    "\n",
    "valor_retornado = sumar_numeros(3,5)\n",
    "\n",
    "print(valor_retornado)\n"
   ]
  },
  {
   "cell_type": "code",
   "execution_count": 15,
   "metadata": {},
   "outputs": [
    {
     "name": "stdout",
     "output_type": "stream",
     "text": [
      "LA suma de las edades de Jose y Tutu es 26.0\n",
      "LA suma es mayor a la 3ra edad\n"
     ]
    }
   ],
   "source": [
    "def sumar_edades(nombre1,nombre2):\n",
    " \n",
    "    suma_edades = edad1 + edad2\n",
    "    print(f'LA suma de las edades de {nombre1} y {nombre2} es {suma_edades}')\n",
    "    return suma_edades\n",
    "\n",
    "edad1 = float(input('Ingrese un numero'))\n",
    "edad2 = float(input('Ingrese un numero'))\n",
    "edad3 = 25\n",
    "sumar_edad_retornado = sumar_edades('Jose','Tutu')\n",
    "if sumar_edad_retornado > edad3:\n",
    "    print('LA suma es mayor a la 3ra edad')"
   ]
  },
  {
   "cell_type": "markdown",
   "metadata": {},
   "source": [
    "## Challenge 3 🤺 - 15m\n",
    "\n",
    "Crear una función que reciba dos parámetros (una palabra y un número), y que retorne `True` si el número es igual a la cantidad de letras de la palabra. En caso contrario, que retorne `False`.\n",
    "\n",
    "Pista: `cantidad de letras de una palabra en python`"
   ]
  },
  {
   "cell_type": "code",
   "execution_count": 17,
   "metadata": {},
   "outputs": [
    {
     "name": "stdout",
     "output_type": "stream",
     "text": [
      "Numero coincide con la cantidad de letras\n"
     ]
    }
   ],
   "source": [
    "#SOlucion de Thiago\n",
    "def comprobar_palabra(palabra, numero):\n",
    "    if len(palabra) == numero:\n",
    "        return True\n",
    "\n",
    "    return False\n",
    "\n",
    "user_palabra = input(\"Inserte una palabra: \")\n",
    "user_numero = int(input(\"Inserte un numero: \"))\n",
    "\n",
    "if comprobar_palabra(user_palabra, user_numero):\n",
    "    print(\"Numero coincide con la cantidad de letras\")\n",
    "else:\n",
    "    print(\"Numero no coincide con cantidad de letras\")"
   ]
  },
  {
   "cell_type": "code",
   "execution_count": 18,
   "metadata": {},
   "outputs": [
    {
     "name": "stdout",
     "output_type": "stream",
     "text": [
      "['A', 'u', 'r', 'e', 'l', 'i', 'a', 'n', 'o']\n"
     ]
    }
   ],
   "source": [
    "nombre = 'Aureliano'\n",
    "nombre_enlistado = list(nombre)\n",
    "\n",
    "print(nombre_enlistado)"
   ]
  },
  {
   "cell_type": "markdown",
   "metadata": {},
   "source": [
    "## Challenge 5 🤺 - 25m\n",
    "\n",
    "Pedir al usuario que ingrese 1 palabra, luego convertir esa palabra a una lista con sus caracteres con `list()`. Agregar esa lista de caracteres a una lista llamada `palabras_ingresadas`. Repetir el proceso 3 veces. Cada vez que se agregue una lista de caracteres, imprimir la lista `palabras_ingresadas`.\n"
   ]
  },
  {
   "cell_type": "code",
   "execution_count": 19,
   "metadata": {},
   "outputs": [
    {
     "name": "stdout",
     "output_type": "stream",
     "text": [
      "[['p', 'a', 'p', 'a']]\n",
      "[['p', 'a', 'p', 'a'], ['p', 'e', 'l', 'a']]\n",
      "[['p', 'a', 'p', 'a'], ['p', 'e', 'l', 'a'], ['g', 'a', 't', 'o']]\n"
     ]
    }
   ],
   "source": [
    "#Solucion de Joel\n",
    "palabras_ingresadas = []\n",
    "\n",
    "def ingresar_palabras():\n",
    "    palabra = input(\"Ingrese una palabra\")\n",
    "    palabra_lista = list(palabra)    \n",
    "    palabras_ingresadas.append(palabra_lista)\n",
    "    print(palabras_ingresadas)\n",
    "\n",
    "def cantidad_de_veces(veces):\n",
    "    for i in range(veces):\n",
    "        ingresar_palabras()\n",
    "\n",
    "\n",
    "num_de_palabras = int(input('Cuantas palabras desea ingresar?'))\n",
    "cantidad_de_veces(num_de_palabras)"
   ]
  },
  {
   "cell_type": "code",
   "execution_count": 24,
   "metadata": {},
   "outputs": [
    {
     "name": "stdout",
     "output_type": "stream",
     "text": [
      "La letra esta en la palabra\n"
     ]
    }
   ],
   "source": [
    "letra = '3'\n",
    "palabra = '131'\n",
    "\n",
    "if letra in palabra :\n",
    "    print('La letra esta en la palabra')\n",
    "else:\n",
    "    print('La letra no esta en la palabra')\n"
   ]
  },
  {
   "cell_type": "markdown",
   "metadata": {},
   "source": [
    "## Challenge 4 🤺 - 25 min\n",
    "Crear función que revise si una palabra contiene una letra. En caso de que la contenga, retornar la letra entre corchetes `[]`. De lo contrario, retornar solo la letra."
   ]
  },
  {
   "cell_type": "code",
   "execution_count": 30,
   "metadata": {},
   "outputs": [],
   "source": [
    "#Solucion de Ana\n",
    "def revision():\n",
    "    palabra = 'gato'\n",
    "    letra = 'g'\n",
    "    if letra in palabra:\n",
    "        return(f'[{letra}]')\n",
    "    else:\n",
    "        return(f'{letra}')\n",
    "    \n",
    "resultado= revision()\n",
    "# print(resultado)"
   ]
  },
  {
   "cell_type": "code",
   "execution_count": null,
   "metadata": {},
   "outputs": [],
   "source": [
    "#Solucion de Smille\n",
    "palabra= input(\"ingrese una palabra\")\n",
    "letra= \"j\"\n",
    "if letra in palabra.lower():\n",
    "    print (f\"[{letra}]\")\n",
    "else:\n",
    "    print(f\" {letra}\")"
   ]
  },
  {
   "cell_type": "markdown",
   "metadata": {},
   "source": [
    "# Intro del Wordle\n",
    "Funcion verificadora\n",
    "\n",
    "Acercandonos un poco más a nuestro juego, vamos a ver cual es el proceso cada vez que se ingresa una palabra\n",
    "\n",
    "- Crear una lista vacía `letras_verificadas` para las letras de la palabra luego de ser verificada\n",
    "- Definir la cantidad de letras de la palabra a encontrar\n",
    "- Si las letras existen en la palabra a encontrar y sus posiciones coinciden: encerrar en corchetes `[]` y agregar al resultado\n",
    "- Si las letras existen en la palabra a encontrar pero sus posiciones no coinciden: encerrar en parentesis `()` y agregar al resultado\n",
    "- Si no se cumple ninguna de las anteriores, agregar la letra a la lista vacía sin modificaciones\n",
    "- Retornar el resultado"
   ]
  },
  {
   "cell_type": "code",
   "execution_count": 39,
   "metadata": {},
   "outputs": [
    {
     "name": "stdout",
     "output_type": "stream",
     "text": [
      "['[v]', '[i]', '[r]', 'a', 'l']\n"
     ]
    }
   ],
   "source": [
    "def funcion_verificadora(palabra_a_encontrar,palabra_usuario):\n",
    "    \n",
    "    #Definir la cantidad de letras de la palabra a encontrar\n",
    "    cantidad_letras_palabra = 5\n",
    "\n",
    "    #Crear una lista vacía `letras_verificadas\n",
    "    letras_verificadas = []\n",
    "\n",
    "    # Recorrer una palabra_ingresada\n",
    "    for posicion in range(cantidad_letras_palabra):\n",
    "\n",
    "        letras_son_iguales = palabra_a_encontrar[posicion]==palabra_usuario[posicion]\n",
    "        letra_existente = palabra_usuario[posicion] in palabra_a_encontrar\n",
    "\n",
    "        #Si se da la condicion de que son iguales imprimir [letra]\n",
    "        if letras_son_iguales:\n",
    "            letras_verificadas.append(f'[{palabra_usuario[posicion]}]')\n",
    "        #Si se da la condicion de que existe imprimir (letra)\n",
    "        elif letra_existente:\n",
    "            letras_verificadas.append(f'({palabra_usuario[posicion]})')  \n",
    "        #Si se da la condicion de que no este la letra imprimir letra\n",
    "        else:\n",
    "            letras_verificadas.append(palabra_usuario[posicion])      \n",
    "        \n",
    "    return letras_verificadas\n",
    "\n",
    "palabra_secreta = 'virus'\n",
    "palabra_usuario_arg = input('Ingrese la palabra')\n",
    "resultado = funcion_verificadora(palabra_secreta,palabra_usuario_arg )\n",
    "print(resultado)"
   ]
  },
  {
   "cell_type": "markdown",
   "metadata": {},
   "source": [
    "## Challenge 6 🤺 - 20m\n",
    "\n",
    "Dada la lista de ejemplo: \n",
    "\n",
    "lista = [['h', 'o', 'l', 'i', 's'], ['h', 'e', 'l', 'l', 'o'], ['h', 'a', 'l', 'l', 'o']]\n",
    "\n",
    "Crear una función que imprima una grilla (lista de listas), una línea por cada lista dentro de la lista principal.\n",
    "\n",
    "Ejemplo del resultado esperado:\n",
    "\n",
    "```\n",
    "['h', 'o', 'l', 'i', 's']\n",
    "['h', 'e', 'l', 'l', 'o']\n",
    "['h', 'a', 'l', 'l', 'o']\n",
    "```"
   ]
  },
  {
   "cell_type": "code",
   "execution_count": 40,
   "metadata": {},
   "outputs": [
    {
     "name": "stdout",
     "output_type": "stream",
     "text": [
      "['h', 'o', 'l', 'i', 's']\n",
      "['h', 'e', 'l', 'l', 'o']\n",
      "['h', 'a', 'l', 'l', 'o']\n"
     ]
    }
   ],
   "source": [
    "#Solucion de Fab\n",
    "lista = [['h', 'o', 'l', 'i', 's'], ['h', 'e', 'l', 'l', 'o'], ['h', 'a', 'l', 'l', 'o']]\n",
    "\n",
    "for i in range(len(lista)):\n",
    "    for j in lista:\n",
    "        print(end=\"\")\n",
    "    print(lista[i])"
   ]
  },
  {
   "cell_type": "code",
   "execution_count": 41,
   "metadata": {},
   "outputs": [
    {
     "name": "stdout",
     "output_type": "stream",
     "text": [
      "['h', 'o', 'l', 'i', 's']\n",
      "['h', 'e', 'l', 'l', 'o']\n",
      "['h', 'a', 'l', 'l', 'o']\n"
     ]
    }
   ],
   "source": [
    "#Solucion de NIcole\n",
    "def lista_palabra(palabra):\n",
    "    palabra_enlistada=list(palabra)\n",
    "    lista_de_lista=[]\n",
    "    lista_de_lista.append(palabra_enlistada)\n",
    "    for palabra_enlistada in lista_de_lista:\n",
    "        print(palabra_enlistada)\n",
    "\n",
    "lista_palabra('holis')  \n",
    "lista_palabra('hello')  \n",
    "lista_palabra('hallo')"
   ]
  },
  {
   "cell_type": "code",
   "execution_count": 43,
   "metadata": {},
   "outputs": [
    {
     "name": "stdout",
     "output_type": "stream",
     "text": [
      "['h', 'o', 'l', 'i', 's']\n",
      "['h', 'e', 'l', 'l', 'o']\n",
      "['h', 'a', 'l', 'l', 'o']\n"
     ]
    }
   ],
   "source": [
    "# SOlucion de Carlos\n",
    "def funcion_grilla():\n",
    "    lista = [['h', 'o', 'l', 'i', 's'], ['h', 'e', 'l', 'l', 'o'], ['h', 'a', 'l', 'l', 'o']]\n",
    "    for elemento in lista:\n",
    "        print(elemento)\n",
    "        \n",
    "funcion_grilla()"
   ]
  },
  {
   "cell_type": "code",
   "execution_count": 46,
   "metadata": {},
   "outputs": [
    {
     "name": "stdout",
     "output_type": "stream",
     "text": [
      "Te quedan 3 intentos\n",
      "feef\n",
      "Te quedan 2 intentos\n",
      "papel\n",
      "Acertaste la palabra\n",
      "Ya no me quedan intentos\n"
     ]
    }
   ],
   "source": [
    "intentos = 3\n",
    "palabra_secreta = 'papel'\n",
    "while intentos>0:\n",
    "    print(f'Te quedan {intentos} intentos')\n",
    "    palabra = input('Ingresa una palabra')\n",
    "    print(palabra)\n",
    "    if palabra_secreta !=palabra:\n",
    "        intentos = intentos - 1\n",
    "    else:\n",
    "        print('Acertaste la palabra')\n",
    "        break\n",
    "    \n",
    "print('Ya no me quedan intentos')"
   ]
  },
  {
   "cell_type": "code",
   "execution_count": 48,
   "metadata": {},
   "outputs": [
    {
     "name": "stdout",
     "output_type": "stream",
     "text": [
      "BIenvenidos al Wordle Dinamico\n",
      "Te quedan 6 intentos\n"
     ]
    },
    {
     "name": "stdout",
     "output_type": "stream",
     "text": [
      "la palabra no tiene la longitud correcta\n",
      "INgresa una palabra con 5 letras\n",
      "Te quedan 5 intentos\n",
      "['a', '(v)', '(i)', 'o', 'n']\n",
      "Te quedan 4 intentos\n",
      "['a', '(v)', '(i)', 'o', 'n']\n",
      "['a', '(u)', 'd', '(i)', 'o']\n",
      "Te quedan 3 intentos\n",
      "['a', '(v)', '(i)', 'o', 'n']\n",
      "['a', '(u)', 'd', '(i)', 'o']\n",
      "['a', '(u)', 'd', '(i)', 'o']\n",
      "Te quedan 2 intentos\n",
      "['a', '(v)', '(i)', 'o', 'n']\n",
      "['a', '(u)', 'd', '(i)', 'o']\n",
      "['a', '(u)', 'd', '(i)', 'o']\n",
      "['[v]', '[i]', '[r]', '[u]', '[s]']\n",
      "Ganaste fiiiiin\n"
     ]
    }
   ],
   "source": [
    "def funcion_verificadora(palabra_a_encontrar,palabra_usuario):\n",
    "    \n",
    "    #Definir la cantidad de letras de la palabra a encontrar\n",
    "    cantidad_letras_palabra = 5\n",
    "\n",
    "    #Crear una lista vacía `letras_verificadas\n",
    "    letras_verificadas = []\n",
    "\n",
    "    # Recorrer una palabra_ingresada\n",
    "    for posicion in range(cantidad_letras_palabra):\n",
    "\n",
    "        letras_son_iguales = palabra_a_encontrar[posicion]==palabra_usuario[posicion]\n",
    "        letra_existente = palabra_usuario[posicion] in palabra_a_encontrar\n",
    "\n",
    "        #Si se da la condicion de que son iguales imprimir [letra]\n",
    "        if letras_son_iguales:\n",
    "            letras_verificadas.append(f'[{palabra_usuario[posicion]}]')\n",
    "        #Si se da la condicion de que existe imprimir (letra)\n",
    "        elif letra_existente:\n",
    "            letras_verificadas.append(f'({palabra_usuario[posicion]})')  \n",
    "        #Si se da la condicion de que no este la letra imprimir letra\n",
    "        else:\n",
    "            letras_verificadas.append(palabra_usuario[posicion])      \n",
    "        \n",
    "    return letras_verificadas\n",
    "\n",
    "def imprimir_grilla(lista):\n",
    "    cantidad_filas = len(lista)\n",
    "\n",
    "    for fila in range(cantidad_filas):\n",
    "        print(lista[fila])\n",
    "\n",
    "\n",
    "#Ejecucion del programa\n",
    "palabra_a_encontrar = 'virus'\n",
    "cantidad_de_letras = 5\n",
    "intentos = 6\n",
    "grilla = []\n",
    "print('BIenvenidos al Wordle Dinamico')\n",
    "\n",
    "while intentos>0: \n",
    "    print(f'Te quedan {intentos} intentos')\n",
    "    palabras_usuario = input('ingrese una palabra')\n",
    "    intentos = intentos -1\n",
    "\n",
    "    # Verificar que la palabra usuario tenga la cantidad de letras\n",
    "    if len(palabras_usuario) != cantidad_de_letras:\n",
    "        print('la palabra no tiene la longitud correcta')\n",
    "        print(f'INgresa una palabra con {cantidad_de_letras} letras')\n",
    "        continue\n",
    "    else:\n",
    "        linea_verificada = funcion_verificadora(palabra_a_encontrar,palabras_usuario)\n",
    "        grilla.append(linea_verificada)\n",
    "\n",
    "    imprimir_grilla(grilla)\n",
    "    if palabras_usuario == palabra_a_encontrar:\n",
    "        print('Ganaste fiiiiin')\n",
    "        break\n"
   ]
  },
  {
   "cell_type": "code",
   "execution_count": null,
   "metadata": {},
   "outputs": [],
   "source": []
  },
  {
   "cell_type": "markdown",
   "metadata": {},
   "source": [
    "# CHallenge haciendo el WORDLE"
   ]
  }
 ],
 "metadata": {
  "kernelspec": {
   "display_name": "Python 3",
   "language": "python",
   "name": "python3"
  },
  "language_info": {
   "codemirror_mode": {
    "name": "ipython",
    "version": 3
   },
   "file_extension": ".py",
   "mimetype": "text/x-python",
   "name": "python",
   "nbconvert_exporter": "python",
   "pygments_lexer": "ipython3",
   "version": "3.10.12"
  },
  "orig_nbformat": 4
 },
 "nbformat": 4,
 "nbformat_minor": 2
}
