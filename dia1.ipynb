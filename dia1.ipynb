{
 "cells": [
  {
   "cell_type": "markdown",
   "metadata": {},
   "source": [
    "# Día 1 - Introducción a Python"
   ]
  },
  {
   "cell_type": "markdown",
   "metadata": {},
   "source": [
    "## Hola mundo"
   ]
  },
  {
   "cell_type": "code",
   "execution_count": null,
   "metadata": {},
   "outputs": [],
   "source": [
    "print('Hola, mundo!')"
   ]
  },
  {
   "cell_type": "markdown",
   "metadata": {},
   "source": [
    "## Variables y tipos de datos\nExplicación breve de números, cadenas y booleanos."
   ]
  },
  {
   "cell_type": "code",
   "execution_count": null,
   "metadata": {},
   "outputs": [],
   "source": [
    "entero = 5\nflotante = 2.5\ntexto = 'Bootcamp'\nbooleano = True\nprint(entero, flotante, texto, booleano)"
   ]
  },
  {
   "cell_type": "markdown",
   "metadata": {},
   "source": [
    "### Ejercicio 1\nCrear dos variables numéricas, sumarlas y mostrar el resultado"
   ]
  },
  {
   "cell_type": "code",
   "execution_count": null,
   "metadata": {},
   "outputs": [],
   "source": [
    "a = 10\nb = 7\nresultado = a + b\nprint(resultado)"
   ]
  },
  {
   "cell_type": "markdown",
   "metadata": {},
   "source": [
    "## Operadores aritméticos"
   ]
  },
  {
   "cell_type": "code",
   "execution_count": null,
   "metadata": {},
   "outputs": [],
   "source": [
    "total = 3 * 4 + 2\nprint(total)"
   ]
  },
  {
   "cell_type": "markdown",
   "metadata": {},
   "source": [
    "### Ejercicio 2\nCalcular el precio final de un producto de 25 dólares con un 8% de impuesto"
   ]
  },
  {
   "cell_type": "code",
   "execution_count": null,
   "metadata": {},
   "outputs": [],
   "source": [
    "precio = 25\nimpuesto = precio * 0.08\nfinal = precio + impuesto\nprint(final)"
   ]
  },
  {
   "cell_type": "markdown",
   "metadata": {},
   "source": [
    "## Entrada de usuario y conversión de tipos"
   ]
  },
  {
   "cell_type": "code",
   "execution_count": null,
   "metadata": {},
   "outputs": [],
   "source": [
    "nombre = input('¿Cómo te llamas? ')\nedad = int(input('Ingresa tu edad: '))\nprint(nombre, edad)"
   ]
  },
  {
   "cell_type": "markdown",
   "metadata": {},
   "source": [
    "### Ejercicio 3\nPedir al usuario una temperatura en Celsius y convertirla a Fahrenheit"
   ]
  },
  {
   "cell_type": "code",
   "execution_count": null,
   "metadata": {},
   "outputs": [],
   "source": [
    "celsius = float(input('Temperatura en °C: '))\nfahrenheit = celsius * 1.8 + 32\nprint(fahrenheit)"
   ]
  },
  {
   "cell_type": "markdown",
   "metadata": {},
   "source": [
    "## Comentarios en el código\nLos comentarios comienzan con '#' y sirven para explicar el código."
   ]
  },
  {
   "cell_type": "code",
   "metadata": {},
   "source": [
    "# Este es un comentario\nprint('Usando comentarios')"
   ]
  },
  {
   "cell_type": "markdown",
   "metadata": {},
   "source": [
    "### Ejercicio 4\nEscribe un programa que imprima tu nombre y tu edad en líneas separadas.\nIncluye un comentario al inicio explicando la tarea."
   ]
  },
  {
   "cell_type": "code",
   "metadata": {},
   "source": [
    "# Imprime nombre y edad\nprint('Ana')\nprint(25)"
   ]
  },
  {
   "cell_type": "markdown",
   "metadata": {},
   "source": [
    "## Conversión de tipos\nSe puede convertir un valor con funciones como int(), float() y str()."
   ]
  },
  {
   "cell_type": "markdown",
   "metadata": {},
   "source": [
    "### Ejercicio 5\nSolicita un número entero al usuario, conviértelo a flotante y multiplícalo por 1.5"
   ]
  },
  {
   "cell_type": "code",
   "metadata": {},
   "source": [
    "num = int(input('Ingresa un entero: '))\nresultado = float(num) * 1.5\nprint(resultado)"
   ]
  }
 ],
 "metadata": {
  "kernelspec": {
   "display_name": "Python 3",
   "language": "python",
   "name": "python3"
  },
  "language_info": {
   "name": "python",
   "version": "3"
  }
 },
 "nbformat": 4,
 "nbformat_minor": 2
}