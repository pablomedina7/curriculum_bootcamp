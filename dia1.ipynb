{
 "cells": [
  {
   "cell_type": "markdown",
   "metadata": {},
   "source": [
    " MI PRIMERA LINEA DE CODIGO DEL BOOTCAMP\n",
    " \n",
    " "
   ]
  },
  {
   "cell_type": "code",
   "execution_count": 6,
   "metadata": {},
   "outputs": [
    {
     "name": "stdout",
     "output_type": "stream",
     "text": [
      "Hola mundo como estan\n",
      "Hola mundo como estan\n",
      "Hola mundo como estan\n"
     ]
    }
   ],
   "source": [
    "print(\"Hola mundo como estan\") \n",
    "print(\"Hola mundo como estan\") \n",
    "print(\"Hola mundo como estan\") \n"
   ]
  },
  {
   "cell_type": "markdown",
   "metadata": {},
   "source": [
    "# Variables"
   ]
  },
  {
   "cell_type": "code",
   "execution_count": 9,
   "metadata": {},
   "outputs": [
    {
     "name": "stdout",
     "output_type": "stream",
     "text": [
      "fruta\n",
      "PERRO\n",
      "gato\n"
     ]
    }
   ],
   "source": [
    "# Las variabkes deben ser descriptivas sin espacios \n",
    "# y con minuscula\n",
    "\n",
    "animal_01 = \"perro\"\n",
    "animal_02 = 'gato'\n",
    "animal_03 = 'loro'\n",
    "\n",
    "\n",
    "print(animal_01)"
   ]
  },
  {
   "cell_type": "markdown",
   "metadata": {},
   "source": [
    "# Tipos de datos"
   ]
  },
  {
   "cell_type": "code",
   "execution_count": 12,
   "metadata": {},
   "outputs": [
    {
     "name": "stdout",
     "output_type": "stream",
     "text": [
      "Hola como estas,mucho gusto, \n",
      "apreciado pinguino ,\n",
      "espero que disfrutes estos dias\n",
      "Toto\n"
     ]
    }
   ],
   "source": [
    "# Valores enteros -> int(Integer)\n",
    "edad = 28\n",
    "# Valores decimales -> float (Float numbers)\n",
    "estatura = 1.87\n",
    "# Palabras -> String (Cadenas de texto)\n",
    "nombre = 'Toto'\n",
    "# Booleano ->bool (Booleans Values)\n",
    "feliz = True \n",
    "mensaje = \"\"\"Hola como estas,mucho gusto, \n",
    "apreciado pinguino ,\n",
    "espero que disfrutes estos dias\"\"\"\n",
    "\n",
    "\n",
    "print(mensaje)\n",
    "print(nombre)"
   ]
  },
  {
   "cell_type": "markdown",
   "metadata": {},
   "source": [
    "# Operadores aritmeticos"
   ]
  },
  {
   "cell_type": "code",
   "execution_count": 18,
   "metadata": {},
   "outputs": [
    {
     "name": "stdout",
     "output_type": "stream",
     "text": [
      "El costo total es\n",
      "28000\n",
      "El vuelto es\n",
      "72000\n",
      "9.863013698630137\n"
     ]
    }
   ],
   "source": [
    "# suma +\n",
    "# resta -\n",
    "# multiplicacion *\n",
    "# division /\n",
    "# resto %%\n",
    "# potenciacion **\n",
    "\n",
    "producto_1 = 'Papa frita'\n",
    "costo_prod_1 = 16000\n",
    "producto_2 = 'Coca colex'\n",
    "costo_prod_2 = 12000\n",
    "capital = 100000\n",
    "dolar = 7300\n",
    "\n",
    "costo_total = costo_prod_1 + costo_prod_2 \n",
    "print('El costo total es')\n",
    "print(costo_total)\n",
    "vuelto = capital - costo_total \n",
    "print('El vuelto es')\n",
    "print(vuelto)\n",
    "vuelto_dolares = vuelto/dolar\n",
    "print(vuelto_dolares)"
   ]
  },
  {
   "cell_type": "markdown",
   "metadata": {},
   "source": [
    "## Challenge 🤺 - 20m\n",
    "\n",
    "Suma: asignar dos números en dos variables diferentes `cantidad_de_manzanas` y `cantidad_de_naranjas`. Luego sumar ambas variables en `cantidad_de_frutas`. Imprimir la última variable.\n",
    "\n",
    "Resta: asignar un valor numérico a la variable `frutas_vendidas`. Luego, asignar la resta entre `cantidad_de_frutas` y `frutas_vendidas` a la variable `frutas_restantes`. Imprimir la última variable."
   ]
  },
  {
   "cell_type": "code",
   "execution_count": 22,
   "metadata": {},
   "outputs": [
    {
     "name": "stdout",
     "output_type": "stream",
     "text": [
      "LA cantidad de frutas totales es\n",
      "27\n",
      "LA cantidad de frutas restantes es\n",
      "9\n"
     ]
    }
   ],
   "source": [
    "#Asignacion de valores en 2 variables\n",
    "cantidad_manzanas = 12\n",
    "cantidad_naranjas = 15\n",
    "# SUmar esas variables y guardar en otra variable\n",
    "cantidad_frutas = cantidad_manzanas + cantidad_naranjas\n",
    "# Imprimir la ultima variable\n",
    "print('LA cantidad de frutas totales es')\n",
    "print(cantidad_frutas)\n",
    "\n",
    "#Asignar valor a frutas vendidas\n",
    "frutas_vendidas = 18\n",
    "# Restar valor y asignarlo a frutas restantes\n",
    "frutas_restantes = cantidad_frutas - frutas_vendidas\n",
    "# Imprimir la ultima variable\n",
    "print('LA cantidad de frutas restantes es')\n",
    "print(frutas_restantes)"
   ]
  },
  {
   "cell_type": "markdown",
   "metadata": {},
   "source": [
    "# Operaciones con string (palabras)"
   ]
  },
  {
   "cell_type": "code",
   "execution_count": 28,
   "metadata": {},
   "outputs": [
    {
     "name": "stdout",
     "output_type": "stream",
     "text": [
      "Hola mi nombre es Nicolas Fernandez\n",
      "Hola mi nombre es Nicolas, y mi apellido es Fernandez y tengo 28 anhos\n"
     ]
    }
   ],
   "source": [
    "nombre = 'Nicolas'\n",
    "apellido = 'Fernandez'\n",
    "edad = 28\n",
    "\n",
    "nombre_y_apellido = nombre + ' ' + apellido\n",
    "\n",
    "print('Hola mi nombre es ' + nombre_y_apellido)\n",
    "\n",
    "#Impresion usando format f\n",
    "\n",
    "print(f'Hola mi nombre es {nombre}, y mi apellido es {apellido} y tengo {edad} anhos')"
   ]
  },
  {
   "cell_type": "markdown",
   "metadata": {},
   "source": [
    "## Challenge 🤺 - 15m\n",
    "\n",
    "Asignar el nombre y el apellido de tu compañera/o a las variables nombre y apellido. Luego, imprimir una frase, utilizando las variables.\n",
    "EJEMPLO: \"Hola. Me llamo Claudia Melgarejo. Mucho gusto.\""
   ]
  },
  {
   "cell_type": "code",
   "execution_count": 29,
   "metadata": {},
   "outputs": [
    {
     "name": "stdout",
     "output_type": "stream",
     "text": [
      "Hola me llamo Franco Boggiano. Mucho gusto \n"
     ]
    }
   ],
   "source": [
    "#Solucion de ELIAS VERA\n",
    "nombre = \"Franco\"\n",
    "apellido = \"Boggiano\"\n",
    "print (f\"Hola me llamo {nombre} {apellido}. Mucho gusto \")"
   ]
  },
  {
   "cell_type": "code",
   "execution_count": 30,
   "metadata": {},
   "outputs": [
    {
     "name": "stdout",
     "output_type": "stream",
     "text": [
      "hola me llamo francisco fanego. Mucho gusto!\n"
     ]
    }
   ],
   "source": [
    "# sOLUCION DE MARA\n",
    "nombre='francisco'\n",
    "apellido='fanego'\n",
    "nombre_y_apellido= nombre+' '+apellido\n",
    "print(f'hola me llamo {nombre_y_apellido}. Mucho gusto!')"
   ]
  },
  {
   "cell_type": "markdown",
   "metadata": {},
   "source": [
    "# LAS ENTRADAS DEL USUARIO.LOS INPUTS"
   ]
  },
  {
   "cell_type": "code",
   "execution_count": 35,
   "metadata": {},
   "outputs": [
    {
     "name": "stdout",
     "output_type": "stream",
     "text": [
      "EL nombre del usuario es  y su edad es \n"
     ]
    }
   ],
   "source": [
    "nombre = 'Arturo'\n",
    "nombre_usuario = input('Cargame por favor tu nombre')\n",
    "edad_usuario1 = input('Cargame tu edad')\n",
    "\n",
    "print(f'EL nombre del usuario es {nombre_usuario} y su edad es {edad_usuario1}')\n"
   ]
  },
  {
   "cell_type": "markdown",
   "metadata": {},
   "source": [
    "# VER TIPO DE DATOS (type)"
   ]
  },
  {
   "cell_type": "code",
   "execution_count": 41,
   "metadata": {},
   "outputs": [
    {
     "name": "stdout",
     "output_type": "stream",
     "text": [
      "<class 'str'>\n",
      "2020\n"
     ]
    }
   ],
   "source": [
    "\n",
    "edad = 19\n",
    "edad_usuario1 = input('CArgame tu edad')\n",
    "edad_usuario2 = input('CArgame tu edad')\n",
    "print(type(edad_usuario1))\n",
    "edad_total = edad_usuario1 + edad_usuario2\n",
    "\n",
    "print(edad_total)\n",
    "\n"
   ]
  },
  {
   "cell_type": "markdown",
   "metadata": {},
   "source": [
    "# Conversion de tipos de datos"
   ]
  },
  {
   "cell_type": "code",
   "execution_count": 43,
   "metadata": {},
   "outputs": [
    {
     "ename": "ValueError",
     "evalue": "invalid literal for int() with base 10: '18.5'",
     "output_type": "error",
     "traceback": [
      "\u001b[0;31m---------------------------------------------------------------------------\u001b[0m",
      "\u001b[0;31mValueError\u001b[0m                                Traceback (most recent call last)",
      "\u001b[1;32m/home/penguin/Escritorio/bootcap/dia1.ipynb Celda 21\u001b[0m line \u001b[0;36m1\n\u001b[0;32m----> <a href='vscode-notebook-cell:/home/penguin/Escritorio/bootcap/dia1.ipynb#X26sZmlsZQ%3D%3D?line=0'>1</a>\u001b[0m edad_usuario1 \u001b[39m=\u001b[39m \u001b[39mint\u001b[39;49m(\u001b[39minput\u001b[39;49m(\u001b[39m'\u001b[39;49m\u001b[39mCArgame tu edad\u001b[39;49m\u001b[39m'\u001b[39;49m))\n\u001b[1;32m      <a href='vscode-notebook-cell:/home/penguin/Escritorio/bootcap/dia1.ipynb#X26sZmlsZQ%3D%3D?line=1'>2</a>\u001b[0m edad_usuario2 \u001b[39m=\u001b[39m \u001b[39mint\u001b[39m(\u001b[39minput\u001b[39m(\u001b[39m'\u001b[39m\u001b[39mCArgame tu edad\u001b[39m\u001b[39m'\u001b[39m))\n\u001b[1;32m      <a href='vscode-notebook-cell:/home/penguin/Escritorio/bootcap/dia1.ipynb#X26sZmlsZQ%3D%3D?line=2'>3</a>\u001b[0m \u001b[39mprint\u001b[39m(\u001b[39mtype\u001b[39m(edad_usuario1))\n",
      "\u001b[0;31mValueError\u001b[0m: invalid literal for int() with base 10: '18.5'"
     ]
    }
   ],
   "source": [
    "edad_usuario1 = int(input('CArgame tu edad'))\n",
    "edad_usuario2 = int(input('CArgame tu edad'))\n",
    "print(type(edad_usuario1))\n",
    "edad_total = edad_usuario1 + edad_usuario2\n",
    "\n",
    "print(edad_total)"
   ]
  },
  {
   "cell_type": "markdown",
   "metadata": {},
   "source": [
    "### Challenge 🤺 - 15m\n",
    "\n",
    "Solicitar al usuario ingresar dos temperaturas y almacenarlos en dos variables descriptivas . Luego, imprimir la suma de las dos temperaturas."
   ]
  },
  {
   "cell_type": "code",
   "execution_count": 44,
   "metadata": {},
   "outputs": [
    {
     "name": "stdout",
     "output_type": "stream",
     "text": [
      "60.0\n"
     ]
    }
   ],
   "source": [
    "# SOlucion de Francisco\n",
    "temperatura=30\n",
    "temperatura_1=float(input(\"inserta la temperatura en Asuncion\"))\n",
    "temperatura_2=float(input(\"Inserta la temperatura en CDE\"))\n",
    "print(temperatura_1+temperatura_2)"
   ]
  },
  {
   "cell_type": "code",
   "execution_count": 46,
   "metadata": {},
   "outputs": [
    {
     "name": "stdout",
     "output_type": "stream",
     "text": [
      "La suma de las 2 temperaturas es 41.5\n"
     ]
    }
   ],
   "source": [
    "# Solucion de Daniel\n",
    "temp1 = float(input(\"Ingresa la temperatura 1\"))\n",
    "temp2 = float(input(\"Ingresa la temperatura 2\"))\n",
    "sumaTemp = temp1 + temp2\n",
    "print(f\"La suma de las 2 temperaturas es {sumaTemp}\")"
   ]
  },
  {
   "cell_type": "markdown",
   "metadata": {},
   "source": [
    "# Funciones "
   ]
  },
  {
   "cell_type": "code",
   "execution_count": 1,
   "metadata": {},
   "outputs": [
    {
     "name": "stdout",
     "output_type": "stream",
     "text": [
      "hola como estas, estoy feliz\n",
      "que tal mi kp, estoy triste\n",
      "hola pinguinos, estoy atentooooo\n"
     ]
    }
   ],
   "source": [
    "def saludo ():\n",
    "    saludo_usuario= input('Ingrese un saludo')\n",
    "    estado_animo = input('Ingrse su estado de animo')\n",
    "    print(f'{saludo_usuario}, estoy {estado_animo}')\n",
    "\n",
    "saludo()\n",
    "saludo()\n",
    "saludo()\n",
    "\n"
   ]
  },
  {
   "cell_type": "markdown",
   "metadata": {},
   "source": [
    "## Challenge 🤺 - 15m\n",
    "\n",
    "Crear una función de un proceso que se les ocurra que tenga varios pasos.\n",
    "Ejecutar la función 3 veces."
   ]
  },
  {
   "cell_type": "code",
   "execution_count": 2,
   "metadata": {},
   "outputs": [
    {
     "name": "stdout",
     "output_type": "stream",
     "text": [
      "Ingrese los lados del triangulo\n",
      "El perimetro del Triangulo es 36\n",
      "Ingrese los lados del triangulo\n",
      "El perimetro del Triangulo es 41\n",
      "Ingrese los lados del triangulo\n",
      "El perimetro del Triangulo es 39\n"
     ]
    }
   ],
   "source": [
    "# Solucion de Emma\n",
    "def calculo_perimetro():\n",
    "    print(\"Ingrese los lados del triangulo\")\n",
    "    lado1 = int(input(\"Ingresa el valor de un lado del triangulo\"))\n",
    "    lado2 = int(input(\"Ingresa el valor de un lado del triangulo\"))\n",
    "    lado3 = int(input(\"Ingresa el valor de un lado del triangulo\"))\n",
    "    semi = (lado1 + lado2 + lado3)/2\n",
    "    perimetro = lado1 + lado2 + lado3\n",
    "    print(f\"El perimetro del Triangulo es {perimetro}\")\n",
    "\n",
    "calculo_perimetro()\n",
    "calculo_perimetro()\n",
    "calculo_perimetro()\n"
   ]
  },
  {
   "cell_type": "code",
   "execution_count": 4,
   "metadata": {},
   "outputs": [
    {
     "ename": "SyntaxError",
     "evalue": "invalid syntax (1866722021.py, line 2)",
     "output_type": "error",
     "traceback": [
      "\u001b[0;36m  Cell \u001b[0;32mIn[4], line 2\u001b[0;36m\u001b[0m\n\u001b[0;31m    de datos():\u001b[0m\n\u001b[0m       ^\u001b[0m\n\u001b[0;31mSyntaxError\u001b[0m\u001b[0;31m:\u001b[0m invalid syntax\n"
     ]
    }
   ],
   "source": [
    "# Solucion de Harry Cristaldo\n",
    "def datos():\n",
    "    print('La persona que consiguio mas medallas olimpicas se llama', input('Quien es la persona que gano mas medallas olimpicas?'))\n",
    "    print('La persona promedio camina a una velocidad de', float(input('A que velocidad camina una persona promedio?')), 'KM x hora')\n",
    "    def adicion():\n",
    "        numero_1 = float(input('Dime un numero'))\n",
    "        numero_2 = float(input('Dime un numero'))\n",
    "        suma_numeros = numero_1 + numero_2\n",
    "        print(f'la suma de tus numeros es {suma_numeros}')\n",
    "    adicion()\n",
    "    \n",
    "\n",
    "datos()\n",
    "datos()\n",
    "datos()\n",
    "\n"
   ]
  },
  {
   "cell_type": "code",
   "execution_count": 6,
   "metadata": {},
   "outputs": [
    {
     "name": "stdout",
     "output_type": "stream",
     "text": [
      "a mitad de la suma es: 12.0\n",
      "Hola como estan este es un programa\n"
     ]
    }
   ],
   "source": [
    "def suma_media():\n",
    "    numero1 = float(input('Ingrese un numero'))\n",
    "    numero2 = int(input('Ingrese un numero entero'))\n",
    "    suma = numero1+numero2\n",
    "    suma_media = suma/2\n",
    "    print(f'a mitad de la suma es: {suma_media}')\n",
    "    \n",
    "print(\"Hola como estan este es un programa\")\n",
    "suma_media()"
   ]
  },
  {
   "cell_type": "markdown",
   "metadata": {},
   "source": [
    "# Devolucion de una funcion (return)"
   ]
  },
  {
   "cell_type": "code",
   "execution_count": 12,
   "metadata": {},
   "outputs": [
    {
     "name": "stdout",
     "output_type": "stream",
     "text": [
      "60\n"
     ]
    }
   ],
   "source": [
    "def sumar_edades ():\n",
    "    edad_usuario1 = int(input('Cargame tu edad'))\n",
    "    edad_usuario2 = int(input('Cargame tu edad'))\n",
    "    suma_edades = edad_usuario1 + edad_usuario2\n",
    "    return suma_edades\n",
    "\n",
    "resultado_suma = sumar_edades()\n",
    "doble_suma_edades = resultado_suma*2\n",
    "print(doble_suma_edades)\n"
   ]
  },
  {
   "cell_type": "markdown",
   "metadata": {},
   "source": [
    "# Parametros y argumentos"
   ]
  },
  {
   "cell_type": "code",
   "execution_count": 14,
   "metadata": {},
   "outputs": [
    {
     "name": "stdout",
     "output_type": "stream",
     "text": [
      "Buenas tardes como estan mi nombre es Cesar tengo 19anhos\n",
      "Mi dato random es: SOy de Francia\n",
      "Buenas tardes como estan mi nombre es Francisco tengo 34anhos\n",
      "Mi dato random es: Gane un camion en telebigngo\n"
     ]
    }
   ],
   "source": [
    "def contar_dato_random(nombre,edad,dato_random):\n",
    "    print(f'Buenas tardes como estan mi nombre es {nombre} tengo {edad}anhos')\n",
    "    print(f'Mi dato random es: {dato_random}')\n",
    "\n",
    "\n",
    "nombre1 = input('CArgame tu nombre')\n",
    "\n",
    "contar_dato_random(nombre1, 19, 'SOy de Francia')\n",
    "contar_dato_random('Francisco',34,'Gane un camion en telebigngo')"
   ]
  },
  {
   "cell_type": "code",
   "execution_count": 17,
   "metadata": {},
   "outputs": [
    {
     "name": "stdout",
     "output_type": "stream",
     "text": [
      "Quiero un lavarropas de la marca  Samsung, cuesta 3500000\n"
     ]
    }
   ],
   "source": [
    "def comprar_lavarropas(marca,precio):\n",
    "    print(f'Quiero un lavarropas de la marca  {marca}, cuesta {precio}')\n",
    "\n",
    "\n",
    "comprar_lavarropas(precio = 3500000,marca='Samsung')"
   ]
  },
  {
   "cell_type": "markdown",
   "metadata": {},
   "source": [
    "## Challenge 🤺 - 15m\n",
    "\n",
    "Escribir una funcion que nos pregunte las caracteriticas de un elemento a comprar e imprima el elemento con sus caracteristicas."
   ]
  },
  {
   "cell_type": "code",
   "execution_count": 18,
   "metadata": {},
   "outputs": [
    {
     "name": "stdout",
     "output_type": "stream",
     "text": [
      "me quiero comprar un celular nuevo y queria saber cual seria su precio, modelo y marca\n",
      "si senhora el celular cuesta 200000, es el modelo a12 y es de la marca samsung\n"
     ]
    }
   ],
   "source": [
    "# Solucion de Julio\n",
    "def celular(marca,precio,modelo):\n",
    "    print('me quiero comprar un celular nuevo y queria saber cual seria su precio, modelo y marca')\n",
    "    print(f'si senhora el celular cuesta {precio}, es el modelo {modelo} y es de la marca {marca}')\n",
    "celular('samsung',200000,'a12')"
   ]
  },
  {
   "cell_type": "code",
   "execution_count": 25,
   "metadata": {},
   "outputs": [
    {
     "name": "stdout",
     "output_type": "stream",
     "text": [
      "Solicito el vehiculo de la marca byd del año 2024 y del color perla\n",
      "byd\n"
     ]
    }
   ],
   "source": [
    "def comprar_deportivo():\n",
    "    marc_solicitada = input(\"Ingrese la marca de su interes\")\n",
    "    año_solicitado = input(\"Ingrese del año preferido\")\n",
    "    color_solicitado = input(\"Ingrese el color que mas vaya con usted\")\n",
    "    print(f\"Solicito el vehiculo de la marca {marc_solicitada} del año {año_solicitado} y del color {color_solicitado}\")\n",
    "    return marc_solicitada\n",
    "marca_solicitada = comprar_deportivo()\n",
    "print(marca_solicitada)"
   ]
  }
 ],
 "metadata": {
  "kernelspec": {
   "display_name": "Python 3",
   "language": "python",
   "name": "python3"
  },
  "language_info": {
   "codemirror_mode": {
    "name": "ipython",
    "version": 3
   },
   "file_extension": ".py",
   "mimetype": "text/x-python",
   "name": "python",
   "nbconvert_exporter": "python",
   "pygments_lexer": "ipython3",
   "version": "3.10.12"
  },
  "orig_nbformat": 4
 },
 "nbformat": 4,
 "nbformat_minor": 2
}
