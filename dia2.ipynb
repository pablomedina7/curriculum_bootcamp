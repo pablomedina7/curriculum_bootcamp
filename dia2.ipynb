{
 "cells": [
  {
   "cell_type": "code",
   "execution_count": null,
   "metadata": {},
   "outputs": [],
   "source": [
    "nombre = 'Arturo'\n",
    "\n",
    "print(nombre)\n",
    "\n",
    "nombre = 'Tutu'\n",
    "\n",
    "print(nombre)"
   ]
  },
  {
   "cell_type": "markdown",
   "metadata": {},
   "source": [
    "# Condicionales"
   ]
  },
  {
   "cell_type": "markdown",
   "metadata": {},
   "source": [
    "Operadores de comparacion"
   ]
  },
  {
   "cell_type": "code",
   "execution_count": 6,
   "metadata": {},
   "outputs": [
    {
     "name": "stdout",
     "output_type": "stream",
     "text": [
      "False\n",
      "False\n",
      "True\n"
     ]
    }
   ],
   "source": [
    "# mayor que otro >\n",
    "# menor que otro <\n",
    "# mayor o igual que otro >=\n",
    "# menor o igual que otro <=\n",
    "# igual a otro ==\n",
    "# desigual o distinto !=\n",
    "num1 = 19\n",
    "num2 = 20\n",
    "nombre1 = 'Ana'\n",
    "nombre2 = 'ana'\n",
    "\n",
    "#print(num1<num2)\n",
    "print(num1>num2)\n",
    "print(num1==num2)\n",
    "\n",
    "print(nombre1 != nombre2)"
   ]
  },
  {
   "cell_type": "code",
   "execution_count": 10,
   "metadata": {},
   "outputs": [
    {
     "name": "stdout",
     "output_type": "stream",
     "text": [
      "Sos un menor\n"
     ]
    }
   ],
   "source": [
    "# Si se da una condicion:\n",
    "    #Realizo una accion\n",
    "\n",
    "edad = 17\n",
    "\n",
    "if edad >=18: #(si)\n",
    "    print('Sos mayor ')\n",
    "else: #(sino)\n",
    "    print('Sos un menor')"
   ]
  },
  {
   "cell_type": "code",
   "execution_count": 13,
   "metadata": {},
   "outputs": [
    {
     "name": "stdout",
     "output_type": "stream",
     "text": [
      "Sos menor de edad\n"
     ]
    }
   ],
   "source": [
    "edad = int (input('Ingrese su edad'))\n",
    "\n",
    "# Si la edad es menor a 18:\n",
    "    # Imprimir es menor\n",
    "if edad < 18:\n",
    "    print('Sos menor de edad')\n",
    "\n",
    "# Si es mayor o igual a 65\n",
    "    # imprimir sos un jubilado\n",
    "elif edad >=65:\n",
    "    print('Sos un jubilado')\n",
    "\n",
    "# Sino se da nada de lo anterior\n",
    "    # imprimir sos activo laboral\n",
    "else:\n",
    "    print('Sos activo laboral')\n"
   ]
  },
  {
   "cell_type": "code",
   "execution_count": 16,
   "metadata": {},
   "outputs": [
    {
     "name": "stdout",
     "output_type": "stream",
     "text": [
      "True\n"
     ]
    }
   ],
   "source": [
    "# <!-- Operadores logicos\n",
    "# and y\n",
    "# or o\n",
    "# not no -->\n",
    "\n",
    "num1 = 19\n",
    "num2 = 20\n",
    "num3 =21\n",
    "\n",
    "print(num1 < num2 or num3 < num2)"
   ]
  },
  {
   "cell_type": "code",
   "execution_count": null,
   "metadata": {},
   "outputs": [],
   "source": []
  },
  {
   "cell_type": "markdown",
   "metadata": {},
   "source": [
    "## Challenge🤺 - 20m\n",
    "\n",
    "Escribe un programa que pregunte al usuario por su edad y determine si tiene edad suficiente para comprar y consumir alcohol.\n",
    "- Si el usuario tiene mas de 18 pero menos de 21 impirmir \"Podes tomar pero no comprar\"\n",
    "- Si el usuario tiene menos de 18 imprimir \"Juguito nomas\"\n",
    "- Si el usuario tiene mas de 21 imprimir \"Hace lo que quieras\""
   ]
  },
  {
   "cell_type": "code",
   "execution_count": 17,
   "metadata": {},
   "outputs": [
    {
     "name": "stdout",
     "output_type": "stream",
     "text": [
      "Juguito nomas\n"
     ]
    }
   ],
   "source": [
    "#Solucion de Nicole  \n",
    "edad = int (input('CArga tu edad'))\n",
    "if edad >=18 and edad<21:\n",
    "    print('Podes tomar pero no comprar')\n",
    "elif edad>=21:\n",
    "    print('Hace lo que quieras')\n",
    "else:\n",
    "    print('Juguito nomas')"
   ]
  },
  {
   "cell_type": "code",
   "execution_count": 18,
   "metadata": {},
   "outputs": [
    {
     "name": "stdout",
     "output_type": "stream",
     "text": [
      "hace lo que quieras\n"
     ]
    }
   ],
   "source": [
    "#Solucion de Ivan\n",
    "#preguntar al usuario por su edad\n",
    "edad = int(input(\"cuantos años tienes?: \"))\n",
    "\n",
    "#en caso de que tenga 18 pero menos de 21, decir que puede tomar pero no comprar\n",
    "if edad >= 18 and edad < 21:\n",
    "    print(\"podes tomar, pero no comprar\")\n",
    "\n",
    "#en caso de que tenga menos de 18 decirle que puede tomar juguito\n",
    "elif edad < 18:\n",
    "    print(\"podes tomar juguito\")\n",
    "\n",
    "#en caso de que el usuario tenga mas de 21 decirle que puede hacer lo que se le cante\n",
    "else:\n",
    "    print(\"hace lo que quieras\")"
   ]
  },
  {
   "cell_type": "code",
   "execution_count": 24,
   "metadata": {},
   "outputs": [
    {
     "name": "stdout",
     "output_type": "stream",
     "text": [
      "podes tomar juguito\n"
     ]
    }
   ],
   "source": [
    "def verificar_edad(edad):\n",
    "    #preguntar al usuario por su edad\n",
    "\n",
    "    #en caso de que tenga 18 pero menos de 21, decir que puede tomar pero no comprar\n",
    "    if edad >= 18 and edad < 21:\n",
    "        print(\"podes tomar, pero no comprar\")\n",
    "\n",
    "    #en caso de que tenga menos de 18 decirle que puede tomar juguito\n",
    "    elif edad < 18:\n",
    "        print(\"podes tomar juguito\")\n",
    "\n",
    "    #en caso de que el usuario tenga mas de 21 decirle que puede hacer lo que se le cante\n",
    "    else:\n",
    "        print(\"hace lo que quieras\")\n",
    "\n",
    "verificar_edad(17)"
   ]
  },
  {
   "cell_type": "code",
   "execution_count": 33,
   "metadata": {},
   "outputs": [
    {
     "name": "stdout",
     "output_type": "stream",
     "text": [
      "Sos activo laboral,tengo que tener IPS\n"
     ]
    }
   ],
   "source": [
    "\n",
    "def verificar_ips(edad,trabajo,jefe):\n",
    "\n",
    "    # Si la edad es menor a 18:\n",
    "        # Imprimir es menor\n",
    "    if edad < 18:\n",
    "        print('Sos menor de edad')\n",
    "\n",
    "    # Si es mayor o igual a 65\n",
    "        # imprimir sos un jubilado\n",
    "    elif edad >=65:\n",
    "        print('Sos un jubilado')\n",
    "\n",
    "    # Sino se da nada de lo anterior\n",
    "        # imprimir sos activo laboral\n",
    "    else:\n",
    "        if trabajo != 'Si' or jefe != 'Si':\n",
    "            print('Sos activo laboral,no tengo que tener IPS')\n",
    "        else:\n",
    "            print('Sos activo laboral,tengo que tener IPS')\n",
    "            \n",
    "\n",
    "verificar_ips(19,'Si','Si')"
   ]
  },
  {
   "cell_type": "markdown",
   "metadata": {},
   "source": [
    "### Challenge 🤺 - 25m\n",
    "\n",
    "HAcer una funcion en el que se pregunte al usuario por una temperatura (en grados Celsius), imprima la temperatura escrita, y luego clasificar la temperatura ingresada en los siguientes niveles:\n",
    "\n",
    "Entre -10 y 18 grados, que imprima \"Fresquete\".\n",
    "Entre 19 y 30 grados, que imprima \"Calor'i\".\n",
    "Entre 31 y 45 grados, que imprima \"Hakuuuuuu\".\n",
    "Para todo lo demás, imprimir \"Ñamano mba'e!\".\n"
   ]
  },
  {
   "cell_type": "code",
   "execution_count": 39,
   "metadata": {},
   "outputs": [
    {
     "name": "stdout",
     "output_type": "stream",
     "text": [
      "Fresquete\n"
     ]
    }
   ],
   "source": [
    "# Solucion de Lucas\n",
    "#Crear una funcion que tome un valor (temperatura)\n",
    "\n",
    "def clasifica_temp(temperatura):\n",
    "\n",
    "    # Si la temperatura esta entre -10 y 18 grados.\n",
    "\n",
    "    if temperatura >= -10 and temperatura <= 18:\n",
    "\n",
    "        print('Fresquete')\n",
    "\n",
    "    # Si la temperatura esta entre 19 y 30 grados.\n",
    "\n",
    "    elif temperatura >= 19 and temperatura <= 30:\n",
    "\n",
    "        print(\"Calor'i\")\n",
    "\n",
    "    # Si la temperatura esta entre 31 y 45 grados.\n",
    "\n",
    "    elif temperatura >= 31 and temperatura <= 45:\n",
    "\n",
    "        print('Hakuuuuuu')\n",
    "\n",
    "    # Todo lo demas\n",
    "\n",
    "    else:\n",
    "        \n",
    "        print(\"Ñamano mba'e\")\n",
    "\n",
    "temperatura = float(input('Cual es la temperatura hoy?'))\n",
    "clasifica_temp(temperatura)"
   ]
  },
  {
   "cell_type": "code",
   "execution_count": 44,
   "metadata": {},
   "outputs": [
    {
     "name": "stdout",
     "output_type": "stream",
     "text": [
      "Fresquete\n"
     ]
    }
   ],
   "source": [
    "# Solucion de Kevin\n",
    "def clima(temperatura):\n",
    "    #compara el primer intervalo\n",
    "    if(temperatura>=-10 and temperatura<=18):\n",
    "        print(\"Fresquete\")\n",
    "        \n",
    "    #compara el segundo intervalo\n",
    "    elif(temperatura>=19 and temperatura<=30):\n",
    "        print(\"Calor'i\")\n",
    "        \n",
    "    #compara el tercer intervalo\n",
    "    elif(temperatura>=31 and temperatura<=45):\n",
    "        print(\"Hakuuuuuu\")\n",
    "        \n",
    "    #compara el cuarto intervalo\n",
    "    else:\n",
    "        print(\"Ñamano mba'e!\")\n",
    "\n",
    "#pide la temperatura al usuario\n",
    "temperatura =int(input(\"¿Que temperatura es actualmente?\"))\n",
    "\n",
    "#Llama a la funcion clima y pasa la temperatura introducida por el usuario\n",
    "clima(temperatura)"
   ]
  },
  {
   "cell_type": "markdown",
   "metadata": {},
   "source": [
    "# Bucles\n",
    "Toda accion que se repite es un bucle"
   ]
  },
  {
   "cell_type": "markdown",
   "metadata": {},
   "source": [
    "# Bucles condicionales (while -> Mientras)\n",
    "\n"
   ]
  },
  {
   "cell_type": "code",
   "execution_count": 46,
   "metadata": {},
   "outputs": [
    {
     "name": "stdout",
     "output_type": "stream",
     "text": [
      "Hola soy el Tutu\n",
      "Hola soy el Tutu\n",
      "Hola soy el Tutu\n",
      "Hola soy el Tutu\n",
      "Hola soy el Tutu\n",
      "Hola soy el Tutu\n"
     ]
    }
   ],
   "source": [
    "contador = 1\n",
    "#Mientras mi contador <3:\n",
    "    # Imprimir el mensaje\n",
    "while contador <= 6:\n",
    "    print('Hola soy el Tutu')\n",
    "    contador = contador + 1\n",
    "\n"
   ]
  },
  {
   "cell_type": "code",
   "execution_count": 47,
   "metadata": {},
   "outputs": [
    {
     "name": "stdout",
     "output_type": "stream",
     "text": [
      "Te equivocaste chamigo,volve a intentar\n",
      "Te equivocaste chamigo,volve a intentar\n",
      "Te equivocaste chamigo,volve a intentar\n",
      "Acertaste adelante\n"
     ]
    }
   ],
   "source": [
    "numero_secreto = 20\n",
    "\n",
    "numero_usuario = int(input('iNGRESE UN NUMERO'))\n",
    "\n",
    "while numero_secreto != numero_usuario:\n",
    "    print('Te equivocaste chamigo,volve a intentar')\n",
    "    numero_usuario = int(input('iNGRESE UN NUMERO'))\n",
    "\n",
    "print('Acertaste adelante')\n"
   ]
  },
  {
   "cell_type": "code",
   "execution_count": 48,
   "metadata": {},
   "outputs": [
    {
     "name": "stdout",
     "output_type": "stream",
     "text": [
      "Te equivocaste intenta de nuevo\n",
      "Te equivocaste intenta de nuevo\n",
      "Acertaste el numero\n"
     ]
    }
   ],
   "source": [
    "# Bucle Infinito\n",
    "numero_secreto = 15\n",
    "while True:\n",
    "    numero_usuario = int (input('Ingrese un numero'))\n",
    "\n",
    "    if numero_usuario == numero_secreto:\n",
    "        print('Acertaste el numero')\n",
    "        break\n",
    "    else:\n",
    "        print('Te equivocaste intenta de nuevo')"
   ]
  },
  {
   "cell_type": "markdown",
   "metadata": {},
   "source": [
    "### Challenge 🤺 - 15m\n",
    "Escribir un programa que almacene una contraseña en una variable, y pregunte al usuario por la contraseña hasta que introduzca la contraseña correcta.\n",
    "\n",
    "Cuando el usuario ingrese la contrasena correcta, imprimir un mensaje secreto."
   ]
  },
  {
   "cell_type": "code",
   "execution_count": 49,
   "metadata": {},
   "outputs": [
    {
     "name": "stdout",
     "output_type": "stream",
     "text": [
      "Contraseña incorrecta. Siga intentando\n",
      "Contraseña incorrecta. Siga intentando\n",
      "¡Bienvenido usuario 1!, accediste a tu cuenta\n"
     ]
    }
   ],
   "source": [
    "# SOlucion de ANtonia\n",
    "correct_password = 'ilovecats123'\n",
    "while True: \n",
    "    \n",
    "    password_user1 = input ('Escriba su contraseña')\n",
    "\n",
    "    if password_user1 == correct_password:\n",
    "        print('¡Bienvenido usuario 1!, accediste a tu cuenta')\n",
    "        break \n",
    "    else:\n",
    "        print('Contraseña incorrecta. Siga intentando')"
   ]
  },
  {
   "cell_type": "code",
   "execution_count": 50,
   "metadata": {},
   "outputs": [
    {
     "name": "stdout",
     "output_type": "stream",
     "text": [
      "Contraseña correcta, bien!\n"
     ]
    }
   ],
   "source": [
    "#Solucion de Stokunaga\n",
    "contrasenha=input(\"Ingrese una contraseña\")\n",
    "while True:\n",
    "    Pass=input(\"Escriba LA contraseña\")\n",
    "    if Pass==contrasenha:\n",
    "        print(\"Contraseña correcta, bien!\")\n",
    "        break"
   ]
  },
  {
   "cell_type": "markdown",
   "metadata": {},
   "source": [
    "# Listas"
   ]
  },
  {
   "cell_type": "code",
   "execution_count": null,
   "metadata": {},
   "outputs": [],
   "source": []
  },
  {
   "cell_type": "code",
   "execution_count": 63,
   "metadata": {},
   "outputs": [
    {
     "name": "stdout",
     "output_type": "stream",
     "text": [
      "Pedro papaletas frita\n",
      "tomate\n",
      "['Jazmin', 'Pedro', 'Jose']\n",
      "['Jazmin', 'Pedro', 'Jose', 'Celeste']\n",
      "['Jazmin', 'Pedro', 'Jose', 'Celeste', 'tutu', 'Edu']\n",
      "['Jazmin', 'Pedro', 'Jose', 'Celeste', 'Edu']\n",
      "['Jazmin', 'Pedro', 'Jose', 'Celeste']\n",
      "4\n"
     ]
    }
   ],
   "source": [
    "# Lista del super\n",
    "lista_super = ['papaletas frita','coca colex','tomate','cafe']\n",
    "#Lista de asistencia\n",
    "lista_asistencia = ['Jazmin', 'Pedro','Jose']\n",
    "\n",
    "#Forma de accder a los elementos por el indice\n",
    "print(lista_asistencia[1],lista_super[0])\n",
    "print(lista_super[2])\n",
    "\n",
    "#Modificar un elemento de una lista\n",
    "lista_super[0] = 'papa frita'\n",
    "\n",
    "#Imprimir toda la lista\n",
    "print(lista_asistencia)\n",
    "\n",
    "#Anhadir un elemento a una lista\n",
    "lista_asistencia.append('Celeste')\n",
    "print(lista_asistencia)\n",
    "\n",
    "lista_olvidados = ['tutu','Edu']\n",
    "#Anahdir una lista en otra\n",
    "lista_asistencia.extend(lista_olvidados)\n",
    "print(lista_asistencia)\n",
    "\n",
    "#Borrar elemento de una lista por indice\n",
    "lista_asistencia.pop(-2)\n",
    "print(lista_asistencia)\n",
    "#Borrar elemento de una lista por su contenido\n",
    "lista_asistencia.remove('Edu')\n",
    "print(lista_asistencia)\n",
    "# Longitud de una lista\n",
    "longitud = len(lista_asistencia)\n",
    "print(longitud)"
   ]
  },
  {
   "cell_type": "markdown",
   "metadata": {},
   "source": [
    "### Challenge 🤺 - 20m\n",
    "\n",
    "Crear una lista de 5 elementos. Luego, seguir los siguientes pasos.\n",
    "\n",
    "- Agregar un elemento al final de la lista.\n",
    "\n",
    "- Modificar el segundo elemento.\n",
    "\n",
    "- Eliminar el tercer elemento."
   ]
  },
  {
   "cell_type": "code",
   "execution_count": 68,
   "metadata": {},
   "outputs": [
    {
     "name": "stdout",
     "output_type": "stream",
     "text": [
      "['Majo', 'Rodry', 'Anto', 'Sofi', 'Giuli']\n",
      "['Majo', 'Rodry', 'Anto', 'Sofi', 'Giuli', 'Dany']\n",
      "['Majo', 'nada', 'Anto', 'Sofi', 'Giuli', 'Dany']\n",
      "['Majo', 'nada', 'Sofi', 'Giuli', 'Dany']\n"
     ]
    }
   ],
   "source": [
    "#Solucion de Majo\n",
    "lista_pasaporte = ['Majo','Rodry','Anto','Sofi','Giuli']\n",
    "print(lista_pasaporte)\n",
    "\n",
    "lista_pasaporte.append('Dany')\n",
    "print(lista_pasaporte)\n",
    "\n",
    "lista_pasaporte[1] = ('nada')\n",
    "print(lista_pasaporte)\n",
    "\n",
    "lista_pasaporte.pop(2)\n",
    "print(lista_pasaporte)"
   ]
  },
  {
   "cell_type": "code",
   "execution_count": 65,
   "metadata": {},
   "outputs": [
    {
     "name": "stdout",
     "output_type": "stream",
     "text": [
      "Por favor, introduce elementos a la lista (presiona Enter para finalizar):\n",
      "La lista creada es: ['Jose ', 'Pedro', 'Julio', 'Juanji']\n",
      "La lista modificada segun el ejercicio es: ['Jose ', 'samsung', 'Juanji', 'iphone']\n"
     ]
    }
   ],
   "source": [
    "# Solucion de Alix\n",
    "mi_lista = []\n",
    "print(\"Por favor, introduce elementos a la lista (presiona Enter para finalizar):\")\n",
    "while True:\n",
    "    elemento = input(\"Elemento: \")\n",
    "    if elemento == \"\":\n",
    "        break\n",
    "    else:\n",
    "        mi_lista.append(elemento)\n",
    "print(\"La lista creada es:\", mi_lista)\n",
    "mi_lista.append('iphone')\n",
    "mi_lista[1]='samsung'\n",
    "del(mi_lista[2])\n",
    "print(\"La lista modificada segun el ejercicio es:\", mi_lista)"
   ]
  },
  {
   "cell_type": "code",
   "execution_count": 66,
   "metadata": {},
   "outputs": [
    {
     "name": "stdout",
     "output_type": "stream",
     "text": [
      "['Ana', 'Maria', 'Verta', 'Ale']\n",
      "['Ana', 'Maria', 'Verta', 'Ale', 'Robert']\n",
      "['Ana', 'Araceli', 'Maria', 'Verta', 'Ale', 'Robert']\n",
      "['Ana', 'Araceli', 'Verta', 'Ale', 'Robert']\n"
     ]
    }
   ],
   "source": [
    "lista = [\"Ana\", \"Maria\", \"Verta\", \"Ale\"]\n",
    "print(lista)\n",
    "#agregar un elemento al final de la lista\n",
    "lista.append(\"Robert\")\n",
    "print(lista)\n",
    "#Modificar el segundo elemento\n",
    "lista.insert(1, \"Araceli\")\n",
    "print(lista)\n",
    "#Elimina el tercer elemento\n",
    "lista.pop(2)\n",
    "print(lista)"
   ]
  },
  {
   "cell_type": "markdown",
   "metadata": {},
   "source": [
    "# Bucles Iterativos (for)"
   ]
  },
  {
   "cell_type": "code",
   "execution_count": 79,
   "metadata": {},
   "outputs": [
    {
     "name": "stdout",
     "output_type": "stream",
     "text": [
      "5\n",
      "10\n",
      "15\n",
      "20\n",
      "25\n",
      "30\n",
      "35\n",
      "40\n",
      "45\n",
      "50\n"
     ]
    }
   ],
   "source": [
    "for contador in range(10):\n",
    "    resultado = (contador+1)*5\n",
    "    print(resultado)\n"
   ]
  },
  {
   "cell_type": "markdown",
   "metadata": {},
   "source": [
    "### Challenge 🤺 - 20m\n",
    "\n",
    "Escribir un programa que itere en un rango de 10 veces. Por cada iteracion multiplicar el iterador por un numero ingresado por el usuario e imprimir el resultado."
   ]
  },
  {
   "cell_type": "code",
   "execution_count": 82,
   "metadata": {},
   "outputs": [
    {
     "name": "stdout",
     "output_type": "stream",
     "text": [
      "7\n",
      "14\n",
      "21\n",
      "28\n",
      "35\n",
      "42\n",
      "49\n",
      "56\n",
      "63\n",
      "70\n"
     ]
    }
   ],
   "source": [
    "# Solucion de Marcos\n",
    "\n",
    "multiplicado = int(input(\"Ingrese un número a multiplicar\"))\n",
    "for i in range(1,11):\n",
    "    print((i) * multiplicado)\n"
   ]
  },
  {
   "cell_type": "code",
   "execution_count": 83,
   "metadata": {},
   "outputs": [
    {
     "name": "stdout",
     "output_type": "stream",
     "text": [
      "0\n",
      "5\n",
      "14\n",
      "21\n",
      "16\n",
      "35\n",
      "54\n",
      "21\n",
      "16\n",
      "45\n"
     ]
    }
   ],
   "source": [
    "#Solucion de Ara\n",
    "def multiplicacion ():\n",
    "\n",
    "    for contador in range (10):\n",
    "# Por cada iteracion multiplicar el iterador por un numero ingresado por el usuario e imprimir el resultado.\n",
    "        resultado = contador*int(input('Ingrese un numero'))\n",
    "        print(resultado)\n",
    "\n",
    "multiplicacion ()"
   ]
  },
  {
   "cell_type": "code",
   "execution_count": 94,
   "metadata": {},
   "outputs": [
    {
     "name": "stdout",
     "output_type": "stream",
     "text": [
      "Fabricio\n",
      "Ara\n",
      "Lucero\n"
     ]
    }
   ],
   "source": [
    "lista_participantes = ['Fabricio', 'Marcos', 'Ara','Lucero']\n",
    "# for i in range(4):\n",
    "#     print(lista_participantes[i])\n",
    "\n",
    "# for i in range(len(lista_participantes)):\n",
    "#     print(lista_participantes[i])\n",
    "\n",
    "# for valor in enumerate(lista_participantes):\n",
    "#     print (valor[1])\n",
    "\n",
    "# for participante in lista_participantes:\n",
    "#     print(participante)\n",
    "\n",
    "#Como omitir un elemento\n",
    "for participante in lista_participantes:\n",
    "    if participante == 'Marcos':\n",
    "        continue\n",
    "    print(participante)"
   ]
  },
  {
   "cell_type": "markdown",
   "metadata": {},
   "source": [
    "### Challenge 🤺 - 20m\n",
    "\n",
    "Recorrer los elementos de una lista de marcas e imprimir cada marca *__solamente__* si tiene 6 letras o más.\n"
   ]
  },
  {
   "cell_type": "code",
   "execution_count": 96,
   "metadata": {},
   "outputs": [
    {
     "name": "stdout",
     "output_type": "stream",
     "text": [
      "['KIA', 'HYUNDAI', 'TOYOTA', 'MERCEDES BENZ', 'BMW', 'SSANGYONG']\n",
      "HYUNDAI\n",
      "MERCEDES BENZ\n",
      "SSANGYONG\n"
     ]
    }
   ],
   "source": [
    "#Solucion de Aracely\n",
    "lista_marcas = ['KIA', 'HYUNDAI', 'TOYOTA', 'MERCEDES BENZ', 'BMW', 'SSANGYONG']\n",
    "print(lista_marcas)\n",
    "\n",
    "#Recorrer los elementos de la lista de marcas e imprimir cada marca SOLAMENTE si tiene 6 letras o mas\n",
    "for marcas in lista_marcas:\n",
    "    if len(marcas) <= 6:\n",
    "        continue\n",
    "    print(marcas)"
   ]
  },
  {
   "cell_type": "code",
   "execution_count": 97,
   "metadata": {},
   "outputs": [
    {
     "name": "stdout",
     "output_type": "stream",
     "text": [
      "las marcas que tienen 6 letras en su nombre son ['toyota', 'hyundai', 'chebrolet', 'bugati']\n"
     ]
    }
   ],
   "source": [
    "#Solucion de Olaf\n",
    "marcas_de_autos = ['toyota',\n",
    "                   'hyundai',\n",
    "                   'ford',\n",
    "                   'chebrolet',\n",
    "                   'fiat',\n",
    "                   'bugati']\n",
    "lista = []\n",
    "for i in marcas_de_autos:\n",
    "    if len(i) >= 6:\n",
    "        lista.append(i)\n",
    "print(f'las marcas que tienen 6 letras en su nombre son {lista}')"
   ]
  },
  {
   "cell_type": "code",
   "execution_count": 99,
   "metadata": {},
   "outputs": [
    {
     "name": "stdout",
     "output_type": "stream",
     "text": [
      "La fruta es manzana y su costo es 3000\n",
      "La fruta es limon y su costo es 8000\n",
      "La fruta es pera y su costo es 2500\n",
      "La fruta es pinha y su costo es 5000\n"
     ]
    }
   ],
   "source": [
    "lista_frutas = ['manzana','limon','pera','pinha']\n",
    "costo_frutas = [3000,8000,2500,5000]\n",
    "\n",
    "for fruta,costo in zip(lista_frutas,costo_frutas):\n",
    "    print(f'La fruta es {fruta} y su costo es {costo}')\n"
   ]
  },
  {
   "cell_type": "code",
   "execution_count": 101,
   "metadata": {},
   "outputs": [
    {
     "name": "stdout",
     "output_type": "stream",
     "text": [
      "W\n",
      "i\n",
      "l\n",
      "l\n",
      "i\n",
      "a\n",
      "m\n",
      ",\n",
      " \n",
      "S\n",
      "h\n",
      "a\n",
      "k\n",
      "e\n",
      "a\n"
     ]
    }
   ],
   "source": [
    "nombre = 'William, Shakea'\n",
    "for letra in nombre:\n",
    "    print(letra)"
   ]
  },
  {
   "cell_type": "markdown",
   "metadata": {},
   "source": [
    "### Challenge 🤺 - 15m\n",
    "\n",
    "Solicitar al usuario que ingrese una frase.\n",
    "\n",
    "Imprimir un mensaje cada vez que se encuentre una letra \"o\"."
   ]
  },
  {
   "cell_type": "code",
   "execution_count": 109,
   "metadata": {},
   "outputs": [
    {
     "name": "stdout",
     "output_type": "stream",
     "text": [
      "No hay ninguna O\n",
      "Soy una O\n",
      "No hay ninguna O\n",
      "No hay ninguna O\n"
     ]
    }
   ],
   "source": [
    "#Solucion de FAtima\n",
    "\n",
    "#Ingresar datos\n",
    "frase = input('Ingrese una frase')\n",
    "\n",
    "#ciclo for para recorrer la frase y encontrar la o\n",
    "for letra in frase:\n",
    "    if letra.lower() == 'o':\n",
    "        print('Soy una O')\n",
    "    else:\n",
    "        print('No hay ninguna O')\n",
    "        "
   ]
  },
  {
   "cell_type": "code",
   "execution_count": 110,
   "metadata": {},
   "outputs": [
    {
     "name": "stdout",
     "output_type": "stream",
     "text": [
      "Hola como estas\n",
      "numero de o encontrada 1\n",
      "numero de o encontrada 2\n",
      "numero de o encontrada 3\n"
     ]
    }
   ],
   "source": [
    "#SOlucion de Franco\n",
    "frase = (input('favor ingrese una frase: '))\n",
    "print(frase)\n",
    "contador = 0\n",
    "for letra in frase:\n",
    "    if letra == 'o':\n",
    "        contador = contador+1\n",
    "        print(f'numero de o encontrada {contador}')"
   ]
  }
 ],
 "metadata": {
  "kernelspec": {
   "display_name": "Python 3",
   "language": "python",
   "name": "python3"
  },
  "language_info": {
   "codemirror_mode": {
    "name": "ipython",
    "version": 3
   },
   "file_extension": ".py",
   "mimetype": "text/x-python",
   "name": "python",
   "nbconvert_exporter": "python",
   "pygments_lexer": "ipython3",
   "version": "3.10.12"
  },
  "orig_nbformat": 4
 },
 "nbformat": 4,
 "nbformat_minor": 2
}
