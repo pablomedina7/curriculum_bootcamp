{
 "cells": [
  {
   "cell_type": "markdown",
   "metadata": {},
   "source": [
    "# Día 2 - Condicionales y Bucles"
   ]
  },
  {
   "cell_type": "markdown",
   "metadata": {},
   "source": [
    "## Condicionales"
   ]
  },
  {
   "cell_type": "code",
   "execution_count": null,
   "metadata": {},
   "outputs": [],
   "source": [
    "edad = 20\nif edad >= 18:\n    print('Mayor de edad')\nelse:\n    print('Menor de edad')"
   ]
  },
  {
   "cell_type": "markdown",
   "metadata": {},
   "source": [
    "### Ejercicio 1\nPedir al usuario su edad y mostrar si puede conducir (mayor o igual a 18)"
   ]
  },
  {
   "cell_type": "code",
   "execution_count": null,
   "metadata": {},
   "outputs": [],
   "source": [
    "edad = int(input('Edad: '))\nif edad >= 18:\n    print('Puedes conducir')\nelse:\n    print('No puedes conducir')"
   ]
  },
  {
   "cell_type": "markdown",
   "metadata": {},
   "source": [
    "## Bucle while"
   ]
  },
  {
   "cell_type": "code",
   "execution_count": null,
   "metadata": {},
   "outputs": [],
   "source": [
    "contador = 1\nwhile contador <= 3:\n    print('Vuelta', contador)\n    contador += 1"
   ]
  },
  {
   "cell_type": "markdown",
   "metadata": {},
   "source": [
    "### Ejercicio 2\nAdivinar un número entre 1 y 5"
   ]
  },
  {
   "cell_type": "code",
   "execution_count": null,
   "metadata": {},
   "outputs": [],
   "source": [
    "secreto = 3\nnumero = int(input('Adivina: '))\nwhile numero != secreto:\n    numero = int(input('Intenta otra vez: '))\nprint('¡Acertaste!')"
   ]
  },
  {
   "cell_type": "markdown",
   "metadata": {},
   "source": [
    "## Bucle for y listas"
   ]
  },
  {
   "cell_type": "code",
   "execution_count": null,
   "metadata": {},
   "outputs": [],
   "source": [
    "frutas = ['manzana', 'pera', 'naranja']\nfor fruta in frutas:\n    print(fruta)"
   ]
  },
  {
   "cell_type": "markdown",
   "metadata": {},
   "source": [
    "### Ejercicio 3\nImprimir cada nombre de una lista precedido de 'Hola'"
   ]
  },
  {
   "cell_type": "code",
   "execution_count": null,
   "metadata": {},
   "outputs": [],
   "source": [
    "nombres = ['Ana', 'Luis', 'Marta']\nfor n in nombres:\n    print('Hola', n)"
   ]
  },
  {
   "cell_type": "markdown",
   "metadata": {},
   "source": [
    "## Condicional ternario\nPermite expresar condiciones simples en una sola línea."
   ]
  },
  {
   "cell_type": "code",
   "metadata": {},
   "source": [
    "edad = 20\nresultado = 'Mayor' if edad >= 18 else 'Menor'\nprint(resultado)"
   ]
  },
  {
   "cell_type": "markdown",
   "metadata": {},
   "source": [
    "### Ejercicio 4\nDetermina si un número es par o impar usando una expresión condicional"
   ]
  },
  {
   "cell_type": "code",
   "metadata": {},
   "source": [
    "num = int(input('Numero: '))\nprint('Par' if num % 2 == 0 else 'Impar')"
   ]
  },
  {
   "cell_type": "markdown",
   "metadata": {},
   "source": [
    "## For con range\nLa función range() facilita generar secuencias de números."
   ]
  },
  {
   "cell_type": "code",
   "metadata": {},
   "source": [
    "for i in range(3):\n    print('Iteración', i)"
   ]
  },
  {
   "cell_type": "markdown",
   "metadata": {},
   "source": [
    "### Ejercicio 5\nCalcular la suma de los números del 1 al 100 usando un bucle for"
   ]
  },
  {
   "cell_type": "code",
   "metadata": {},
   "source": [
    "suma = 0\nfor i in range(1, 101):\n    suma += i\nprint(suma)"
   ]
  },
  {
   "cell_type": "markdown",
   "metadata": {},
   "source": [
    "## Break y continue\nPalabras clave para controlar la ejecución de bucles"
   ]
  },
  {
   "cell_type": "markdown",
   "metadata": {},
   "source": [
    "### Ejercicio 6\nImprime los números del 1 al 10 pero detén el bucle al llegar a 7"
   ]
  },
  {
   "cell_type": "code",
   "metadata": {},
   "source": [
    "for i in range(1, 11):\n    if i == 7:\n        break\n    print(i)"
   ]
  }
 ],
 "metadata": {
  "kernelspec": {
   "display_name": "Python 3",
   "language": "python",
   "name": "python3"
  },
  "language_info": {
   "name": "python",
   "version": "3"
  }
 },
 "nbformat": 4,
 "nbformat_minor": 2
}